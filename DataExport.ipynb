{
 "cells": [
  {
   "cell_type": "code",
   "execution_count": 17,
   "metadata": {},
   "outputs": [],
   "source": [
    "from os.path import dirname, join as pjoin\n",
    "import scipy.io as sio\n",
    "import numpy as np\n",
    "import matplotlib.pyplot as plt\n",
    "import scipy.io as sio\n",
    "from scipy import signal\n",
    "import os\n",
    "from sklearn.model_selection import train_test_split"
   ]
  },
  {
   "cell_type": "markdown",
   "metadata": {},
   "source": [
    "## Pre-Processing Filters"
   ]
  },
  {
   "cell_type": "code",
   "execution_count": 18,
   "metadata": {},
   "outputs": [],
   "source": [
    "def butter_highpass_filter(data, cutoff, nyq, order=5):\n",
    "    \"\"\"Butterworth high-pass filter.\n",
    "    Args:\n",
    "        data (array_like): data to be filtered.\n",
    "        cutoff (float): cutoff frequency.\n",
    "        order (int): order of the filter.\n",
    "    Returns:\n",
    "        array: filtered data.\"\"\"\n",
    "    normal_cutoff = cutoff / nyq  # normalized cutoff frequency\n",
    "    b, a = signal.butter(order, normal_cutoff, btype='high', analog=False)\n",
    "    filtered_data = signal.filtfilt(b, a, data)\n",
    "    return filtered_data\n",
    "\n",
    "def butter_lowpass_filter(data, cutoff, nyq, order=5):\n",
    "    \"\"\"Butterworth low-pass filter.\n",
    "    Args:\n",
    "        data (array_like): data to be filtered.\n",
    "        cutoff (float): cutoff frequency.\n",
    "        order (int): order of the filter.\n",
    "    Returns:\n",
    "        array: filtered data.\"\"\"\n",
    "    normal_cutoff = cutoff / nyq  # normalized cutoff frequency\n",
    "    b, a = signal.butter(order, normal_cutoff, btype='low', analog=False)\n",
    "    filtered_data = signal.lfilter(b, a, data)\n",
    "    return filtered_data\n",
    "\n",
    "# Filter parameters\n",
    "fps = 256  # sampling frequency\n",
    "cutoff_high = 6  # cutoff frequency of the high-pass filter\n",
    "cutoff_low = 50  # cutoff frequency of the low-pass filter\n",
    "nyq = 0.5 * fps  # Nyquist frequency (half of the sampling frequency).  It represents the highest frequency that can be accurately represented in a discrete-time signal."
   ]
  },
  {
   "cell_type": "code",
   "execution_count": 19,
   "metadata": {},
   "outputs": [],
   "source": [
    "master_data = []\n",
    "master_labels = []\n",
    "\n",
    "electrode_id = 6 # To only get Oz\n",
    "\n",
    "labels = [9.25, 11.25, 13.25, 14.25]\n",
    "stimulus_id = [0, 1, 2, 8]\n",
    "\n",
    "for subject in range(1, 11):\n",
    "    mat = sio.loadmat(f'Data\\\\data\\\\s{subject}.mat')\n",
    "    subject_eeg_data = mat[\"eeg\"]\n",
    "    # 1st dim: 12   -- target\n",
    "    # 2nd dim: 8    -- channels\n",
    "    # 3rd dim: 1114 -- timepoints\n",
    "    # 4th dim: 15   -- trials\n",
    "\n",
    "    # Doing just 9 Hz, 11 Hz, 13 Hz, 14 Hz\n",
    "    # Doing just Oz electrode (index 6)\n",
    "\n",
    "    # Four classes\n",
    "    for i in range(4):\n",
    "\n",
    "        # Cycle each through trial in the class\n",
    "        for j in range(15):\n",
    "\n",
    "            # Temporary array to hold epoch\n",
    "            temp_epoch = np.array(subject_eeg_data[stimulus_id[i], electrode_id, 38:, j]).flatten()\n",
    "\n",
    "            # apply the band-pass filter\n",
    "            temp_epoch = butter_highpass_filter(\n",
    "                data=temp_epoch,\n",
    "                cutoff=cutoff_high,\n",
    "                nyq=nyq,\n",
    "                order=4)\n",
    "\n",
    "            temp_epoch = butter_lowpass_filter(\n",
    "                data=temp_epoch,\n",
    "                cutoff=cutoff_low,\n",
    "                nyq=nyq,\n",
    "                order=4)\n",
    "\n",
    "            # Append the epoch data and target label\n",
    "            master_data.append(temp_epoch)\n",
    "            \n",
    "            label = 0\n",
    "            if labels[i] == 9.25:\n",
    "                label = 0\n",
    "            elif labels[i] == 11.25:\n",
    "                label = 1\n",
    "            elif labels[i] == 13.25:\n",
    "                label = 2\n",
    "            elif labels[i] == 14.25:\n",
    "                label = 3\n",
    "\n",
    "            master_labels.append(label)\n",
    "\n",
    "master_data = np.array(master_data)\n",
    "master_labels = np.array(master_labels)"
   ]
  },
  {
   "cell_type": "code",
   "execution_count": 20,
   "metadata": {},
   "outputs": [
    {
     "data": {
      "image/png": "[encoded data removed]",
      "text/plain": [
       "<Figure size 640x480 with 1 Axes>"
      ]
     },
     "metadata": {},
     "output_type": "display_data"
    }
   ],
   "source": [
    "plt.hist(master_labels)\n",
    "plt.show()"
   ]
  },
  {
   "cell_type": "code",
   "execution_count": 21,
   "metadata": {},
   "outputs": [
    {
     "name": "stdout",
     "output_type": "stream",
     "text": [
      "Train: (419, 1076), (419,)\n",
      "Validation: (91, 1076), (91,)\n",
      "Test: (90, 1076), (90,)\n"
     ]
    },
    {
     "data": {
      "image/png": "[encoded data removed]",
      "text/plain": [
       "<Figure size 640x480 with 1 Axes>"
      ]
     },
     "metadata": {},
     "output_type": "display_data"
    }
   ],
   "source": [
    "# Train-test split (85% train_val, 15% test)\n",
    "epochs_train_val, epochs_test, labels_train_val, labels_test = train_test_split(\n",
    "    master_data, master_labels, test_size=0.15, random_state=42, stratify=master_labels\n",
    ")\n",
    "\n",
    "# Train-validation split (from train_val)\n",
    "epochs_train, epochs_val, labels_train, labels_val = train_test_split(\n",
    "    epochs_train_val, labels_train_val, test_size=0.1765, random_state=42, stratify=labels_train_val\n",
    ")  # 0.1765 ≈ 15% of 85%\n",
    "\n",
    "# Check sizes\n",
    "print(f\"Train: {epochs_train.shape}, {labels_train.shape}\")\n",
    "print(f\"Validation: {epochs_val.shape}, {labels_val.shape}\")\n",
    "print(f\"Test: {epochs_test.shape}, {labels_test.shape}\")\n",
    "\n",
    "plt.hist(labels_train)\n",
    "plt.show()\n"
   ]
  },
  {
   "cell_type": "code",
   "execution_count": 22,
   "metadata": {},
   "outputs": [],
   "source": [
    "output_dir = \"eeg_dataset\"\n",
    "os.makedirs(output_dir, exist_ok=True)\n",
    "\n",
    "# Save splits\n",
    "np.save(os.path.join(output_dir, \"train_epochs.npy\"), epochs_train)\n",
    "np.save(os.path.join(output_dir, \"train_labels.npy\"), labels_train)\n",
    "np.save(os.path.join(output_dir, \"val_epochs.npy\"), epochs_val)\n",
    "np.save(os.path.join(output_dir, \"val_labels.npy\"), labels_val)\n",
    "np.save(os.path.join(output_dir, \"test_epochs.npy\"), epochs_test)\n",
    "np.save(os.path.join(output_dir, \"test_labels.npy\"), labels_test)"
   ]
  },
  {
   "cell_type": "code",
   "execution_count": 23,
   "metadata": {},
   "outputs": [
    {
     "name": "stdout",
     "output_type": "stream",
     "text": [
      "1076\n"
     ]
    }
   ],
   "source": [
    "print(len(master_data[0]))"
   ]
  },
  {
   "cell_type": "code",
   "execution_count": null,
   "metadata": {},
   "outputs": [],
   "source": []
  }
 ],
 "metadata": {
  "kernelspec": {
   "display_name": "Python 3",
   "language": "python",
   "name": "python3"
  },
  "language_info": {
   "codemirror_mode": {
    "name": "ipython",
    "version": 3
   },
   "file_extension": ".py",
   "mimetype": "text/x-python",
   "name": "python",
   "nbconvert_exporter": "python",
   "pygments_lexer": "ipython3",
   "version": "3.10.11"
  }
 },
 "nbformat": 4,
 "nbformat_minor": 2
}
