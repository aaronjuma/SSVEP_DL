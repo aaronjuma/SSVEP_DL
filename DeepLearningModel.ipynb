{
 "cells": [
  {
   "cell_type": "code",
   "execution_count": 3,
   "metadata": {},
   "outputs": [],
   "source": [
    "import torch\n",
    "import numpy as np\n",
    "from torch.utils.data import Dataset"
   ]
  },
  {
   "cell_type": "code",
   "execution_count": 4,
   "metadata": {},
   "outputs": [
    {
     "name": "stdout",
     "output_type": "stream",
     "text": [
      "EEG Batch Shape: torch.Size([32, 14, 640])\n",
      "Label Batch Shape: torch.Size([32])\n"
     ]
    }
   ],
   "source": [
    "class EEGDataset(Dataset):\n",
    "    def __init__(self, data_path, labels_path):\n",
    "        self.data = np.load(data_path)\n",
    "        self.labels = np.load(labels_path)\n",
    "    \n",
    "    def __len__(self):\n",
    "        return len(self.data)\n",
    "    \n",
    "    def __getitem__(self, idx):\n",
    "        # Get the EEG data and corresponding label\n",
    "        eeg = torch.tensor(self.data[idx], dtype=torch.float32)\n",
    "        label = torch.tensor(self.labels[idx], dtype=torch.long)\n",
    "        return eeg, label\n",
    "\n",
    "# Example usage\n",
    "train_dataset = EEGDataset(\"eeg_dataset/train_epochs.npy\", \"eeg_dataset/train_labels.npy\")\n",
    "val_dataset = EEGDataset(\"eeg_dataset/val_epochs.npy\", \"eeg_dataset/val_labels.npy\")\n",
    "test_dataset = EEGDataset(\"eeg_dataset/test_epochs.npy\", \"eeg_dataset/test_labels.npy\")\n",
    "\n",
    "train_loader = torch.utils.data.DataLoader(train_dataset, batch_size=32, shuffle=True)\n",
    "val_loader = torch.utils.data.DataLoader(val_dataset, batch_size=32, shuffle=False)\n",
    "test_loader = torch.utils.data.DataLoader(test_dataset, batch_size=32, shuffle=False)\n",
    "\n",
    "# Check one batch\n",
    "for eeg_batch, label_batch in train_loader:\n",
    "    print(\"EEG Batch Shape:\", eeg_batch.shape)  # (batch_size, 14, 640)\n",
    "    print(\"Label Batch Shape:\", label_batch.shape)  # (batch_size,)\n",
    "    break\n"
   ]
  },
  {
   "cell_type": "code",
   "execution_count": null,
   "metadata": {},
   "outputs": [],
   "source": []
  }
 ],
 "metadata": {
  "kernelspec": {
   "display_name": "Python 3",
   "language": "python",
   "name": "python3"
  },
  "language_info": {
   "codemirror_mode": {
    "name": "ipython",
    "version": 3
   },
   "file_extension": ".py",
   "mimetype": "text/x-python",
   "name": "python",
   "nbconvert_exporter": "python",
   "pygments_lexer": "ipython3",
   "version": "3.9.6"
  }
 },
 "nbformat": 4,
 "nbformat_minor": 2
}
