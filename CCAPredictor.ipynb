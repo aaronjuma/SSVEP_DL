{
 "cells": [
  {
   "cell_type": "markdown",
   "metadata": {},
   "source": [
    "# Predicted SSVEP Stimulus Frequency using CCA"
   ]
  },
  {
   "cell_type": "markdown",
   "metadata": {},
   "source": [
    "### Importing libraries"
   ]
  },
  {
   "cell_type": "code",
   "execution_count": 1,
   "metadata": {},
   "outputs": [],
   "source": [
    "import scipy.io as sio\n",
    "import numpy as np\n",
    "import matplotlib.pyplot as plt\n",
    "from scipy import signal\n",
    "from sklearn.cross_decomposition import CCA"
   ]
  },
  {
   "cell_type": "markdown",
   "metadata": {},
   "source": [
    "### Getting Data"
   ]
  },
  {
   "cell_type": "code",
   "execution_count": 2,
   "metadata": {},
   "outputs": [],
   "source": [
    "mat_contents = sio.loadmat('Data/data/s1.mat')"
   ]
  },
  {
   "cell_type": "code",
   "execution_count": 3,
   "metadata": {},
   "outputs": [],
   "source": [
    "chan_locs = ['PO7', 'PO3', 'POz', 'PO4', 'PO8', 'O1', 'Oz', 'O2']\n",
    "eeg_data = mat_contents['eeg']\n",
    "# 1st dim: 12   -- target\n",
    "# 2nd dim: 8    -- channels\n",
    "# 3rd dim: 1114 -- timepoints\n",
    "# 4th dim: 15   -- trials"
   ]
  },
  {
   "cell_type": "markdown",
   "metadata": {},
   "source": [
    "### Setting up the filters"
   ]
  },
  {
   "cell_type": "code",
   "execution_count": 4,
   "metadata": {},
   "outputs": [],
   "source": [
    "def butter_highpass_filter(data, cutoff, nyq, order=5):\n",
    "    \"\"\"Butterworth high-pass filter.\n",
    "    Args:\n",
    "        data (array_like): data to be filtered.\n",
    "        cutoff (float): cutoff frequency.\n",
    "        order (int): order of the filter.\n",
    "    Returns:\n",
    "        array: filtered data.\"\"\"\n",
    "    normal_cutoff = cutoff / nyq  # normalized cutoff frequency\n",
    "    b, a = signal.butter(order, normal_cutoff, btype='high', analog=False)\n",
    "    filtered_data = signal.filtfilt(b, a, data)\n",
    "    return filtered_data\n",
    "\n",
    "def butter_lowpass_filter(data, cutoff, nyq, order=5):\n",
    "    \"\"\"Butterworth low-pass filter.\n",
    "    Args:\n",
    "        data (array_like): data to be filtered.\n",
    "        cutoff (float): cutoff frequency.\n",
    "        order (int): order of the filter.\n",
    "    Returns:\n",
    "        array: filtered data.\"\"\"\n",
    "    normal_cutoff = cutoff / nyq  # normalized cutoff frequency\n",
    "    b, a = signal.butter(order, normal_cutoff, btype='low', analog=False)\n",
    "    filtered_data = signal.lfilter(b, a, data)\n",
    "    return filtered_data\n",
    "\n",
    "# Filter parameters\n",
    "fps = 256  # sampling frequency\n",
    "cutoff_high = 6  # cutoff frequency of the high-pass filter\n",
    "cutoff_low = 50  # cutoff frequency of the low-pass filter\n",
    "nyq = 0.5 * fps  # Nyquist frequency (half of the sampling frequency).  It represents the highest frequency that can be accurately represented in a discrete-time signal."
   ]
  },
  {
   "cell_type": "markdown",
   "metadata": {},
   "source": [
    "# Filter Dataset"
   ]
  },
  {
   "cell_type": "code",
   "execution_count": 5,
   "metadata": {},
   "outputs": [],
   "source": [
    "# Doing just 9 Hz, 11 Hz, 13 Hz, 14 Hz\n",
    "# Doing just Oz electrode (index 6)\n",
    "\n",
    "filtered_epochs = [] # Will contain the all epochs of data\n",
    "target = [] # Will contain the target stimulus frequency to the corresponding filtered_epoch item\n",
    "electrode_id = 6 # To only get Oz\n",
    "\n",
    "\n",
    "labels = [9.25, 11.25, 13.25, 14.25]\n",
    "stimulus_id = [0, 1, 2, 8]\n",
    "\n",
    "# Four classes\n",
    "for i in range(4):\n",
    "\n",
    "    # Cycle each through trial in the class\n",
    "    for j in range(15):\n",
    "\n",
    "        # Temporary array to hold epoch (For 3rd dimension, we segment from the 39th timepoint and onwards since \n",
    "        # the 39th timepoint is the onset of the stimulus )\n",
    "        temp_epoch = np.array(eeg_data[stimulus_id[i], electrode_id, 38:, j]).flatten()\n",
    "\n",
    "        # apply the band-pass filter\n",
    "        temp_epoch = butter_highpass_filter(\n",
    "            data=temp_epoch,\n",
    "            cutoff=cutoff_high,\n",
    "            nyq=nyq,\n",
    "            order=4)\n",
    "\n",
    "        temp_epoch = butter_lowpass_filter(\n",
    "            data=temp_epoch,\n",
    "            cutoff=cutoff_low,\n",
    "            nyq=nyq,\n",
    "            order=4)\n",
    "\n",
    "        # Append the epoch data and target label\n",
    "        filtered_epochs.append(temp_epoch)\n",
    "        target.append(labels[i])"
   ]
  },
  {
   "cell_type": "markdown",
   "metadata": {},
   "source": [
    "### CCA Function"
   ]
  },
  {
   "cell_type": "code",
   "execution_count": 6,
   "metadata": {},
   "outputs": [],
   "source": [
    "def CCAReferenceSignal(freq, harmonics, sampling_rate, n_samples):\n",
    "\n",
    "    # Get the time vector\n",
    "    t = np.arange(n_samples) / sampling_rate\n",
    "\n",
    "    # temp array to hold reference signals\n",
    "    reference_signals = []\n",
    "\n",
    "    for h in range(1, harmonics + 1):\n",
    "        reference_signals.append(np.sin(2 * np.pi * h * freq * t))\n",
    "        reference_signals.append(np.cos(2 * np.pi * h * freq * t))\n",
    "        \n",
    "    return np.array(reference_signals)"
   ]
  },
  {
   "cell_type": "markdown",
   "metadata": {},
   "source": [
    "### Generating all reference signals"
   ]
  },
  {
   "cell_type": "code",
   "execution_count": 7,
   "metadata": {},
   "outputs": [],
   "source": [
    "reference_signals = []\n",
    "n_timepoints = len(filtered_epochs[0])\n",
    "\n",
    "# Four classes\n",
    "for i in range(4):\n",
    "    reference_signals.append( CCAReferenceSignal(labels[i], 2, fps, n_timepoints))"
   ]
  },
  {
   "cell_type": "markdown",
   "metadata": {},
   "source": [
    "### Function to calculate the canonical correlation between EEG (X) and a reference signal (Y)"
   ]
  },
  {
   "cell_type": "code",
   "execution_count": 14,
   "metadata": {},
   "outputs": [],
   "source": [
    "def coeff(x, y):\n",
    "    x_t = np.transpose(x.reshape(1, -1))\n",
    "    y_t = np.transpose(y)\n",
    "\n",
    "    cca = CCA(n_components=1)\n",
    "    cca.fit_transform(x_t, y_t)\n",
    "    X_c, Y_c = cca.transform(x_t, y_t)\n",
    "\n",
    "    return np.corrcoef(X_c.T, Y_c.T)[0, 1]"
   ]
  },
  {
   "cell_type": "markdown",
   "metadata": {},
   "source": [
    "### Testing if CCA works"
   ]
  },
  {
   "cell_type": "code",
   "execution_count": 16,
   "metadata": {},
   "outputs": [
    {
     "name": "stdout",
     "output_type": "stream",
     "text": [
      "Actual 9.25\n",
      "Correlation of 9.25 Hz is 0.416251250724158\n",
      "Correlation of 11.25 Hz is 0.056156400515336775\n",
      "Correlation of 13.25 Hz is 0.08764742981687766\n",
      "Correlation of 14.25 Hz is 0.1106329723705786\n",
      "Predicted 9.25\n"
     ]
    }
   ],
   "source": [
    "test_eeg_data = filtered_epochs[0]\n",
    "test_label = target[0]\n",
    "print(f\"Actual {test_label}\")\n",
    "\n",
    "correl = []\n",
    "for i in range(len(reference_signals)):\n",
    "    calculated_coeff = coeff(test_eeg_data, reference_signals[i])\n",
    "    correl.append(calculated_coeff)\n",
    "    print(f'Correlation of {labels[i]} Hz is {calculated_coeff}')\n",
    "\n",
    "print(f\"Predicted {labels[np.argmax(correl)]}\")"
   ]
  },
  {
   "cell_type": "markdown",
   "metadata": {},
   "source": [
    "## Test CCA for subject 1"
   ]
  },
  {
   "cell_type": "code",
   "execution_count": 10,
   "metadata": {},
   "outputs": [
    {
     "name": "stdout",
     "output_type": "stream",
     "text": [
      "Actual Freq: 9.25, Predicted Freq: 9.25\n",
      "Actual Freq: 9.25, Predicted Freq: 11.25\n",
      "Actual Freq: 9.25, Predicted Freq: 11.25\n",
      "Actual Freq: 9.25, Predicted Freq: 13.25\n",
      "Actual Freq: 9.25, Predicted Freq: 9.25\n",
      "Actual Freq: 9.25, Predicted Freq: 14.25\n",
      "Actual Freq: 9.25, Predicted Freq: 9.25\n",
      "Actual Freq: 9.25, Predicted Freq: 9.25\n",
      "Actual Freq: 9.25, Predicted Freq: 9.25\n",
      "Actual Freq: 9.25, Predicted Freq: 9.25\n",
      "Actual Freq: 9.25, Predicted Freq: 13.25\n",
      "Actual Freq: 9.25, Predicted Freq: 11.25\n",
      "Actual Freq: 9.25, Predicted Freq: 11.25\n",
      "Actual Freq: 9.25, Predicted Freq: 9.25\n",
      "Actual Freq: 9.25, Predicted Freq: 9.25\n",
      "Actual Freq: 11.25, Predicted Freq: 11.25\n",
      "Actual Freq: 11.25, Predicted Freq: 9.25\n",
      "Actual Freq: 11.25, Predicted Freq: 11.25\n",
      "Actual Freq: 11.25, Predicted Freq: 11.25\n",
      "Actual Freq: 11.25, Predicted Freq: 11.25\n",
      "Actual Freq: 11.25, Predicted Freq: 11.25\n",
      "Actual Freq: 11.25, Predicted Freq: 11.25\n",
      "Actual Freq: 11.25, Predicted Freq: 11.25\n",
      "Actual Freq: 11.25, Predicted Freq: 11.25\n",
      "Actual Freq: 11.25, Predicted Freq: 11.25\n",
      "Actual Freq: 11.25, Predicted Freq: 11.25\n",
      "Actual Freq: 11.25, Predicted Freq: 9.25\n",
      "Actual Freq: 11.25, Predicted Freq: 11.25\n",
      "Actual Freq: 11.25, Predicted Freq: 11.25\n",
      "Actual Freq: 11.25, Predicted Freq: 11.25\n",
      "Actual Freq: 13.25, Predicted Freq: 13.25\n",
      "Actual Freq: 13.25, Predicted Freq: 11.25\n",
      "Actual Freq: 13.25, Predicted Freq: 13.25\n",
      "Actual Freq: 13.25, Predicted Freq: 11.25\n",
      "Actual Freq: 13.25, Predicted Freq: 11.25\n",
      "Actual Freq: 13.25, Predicted Freq: 9.25\n",
      "Actual Freq: 13.25, Predicted Freq: 13.25\n",
      "Actual Freq: 13.25, Predicted Freq: 14.25\n",
      "Actual Freq: 13.25, Predicted Freq: 13.25\n",
      "Actual Freq: 13.25, Predicted Freq: 13.25\n",
      "Actual Freq: 13.25, Predicted Freq: 11.25\n",
      "Actual Freq: 13.25, Predicted Freq: 9.25\n",
      "Actual Freq: 13.25, Predicted Freq: 11.25\n",
      "Actual Freq: 13.25, Predicted Freq: 9.25\n",
      "Actual Freq: 13.25, Predicted Freq: 13.25\n",
      "Actual Freq: 14.25, Predicted Freq: 14.25\n",
      "Actual Freq: 14.25, Predicted Freq: 14.25\n",
      "Actual Freq: 14.25, Predicted Freq: 13.25\n",
      "Actual Freq: 14.25, Predicted Freq: 14.25\n",
      "Actual Freq: 14.25, Predicted Freq: 14.25\n",
      "Actual Freq: 14.25, Predicted Freq: 9.25\n",
      "Actual Freq: 14.25, Predicted Freq: 14.25\n",
      "Actual Freq: 14.25, Predicted Freq: 14.25\n",
      "Actual Freq: 14.25, Predicted Freq: 14.25\n",
      "Actual Freq: 14.25, Predicted Freq: 11.25\n",
      "Actual Freq: 14.25, Predicted Freq: 14.25\n",
      "Actual Freq: 14.25, Predicted Freq: 11.25\n",
      "Actual Freq: 14.25, Predicted Freq: 14.25\n",
      "Actual Freq: 14.25, Predicted Freq: 14.25\n",
      "Actual Freq: 14.25, Predicted Freq: 14.25\n",
      "0.6333333333333333\n"
     ]
    }
   ],
   "source": [
    "# Holds accuracy\n",
    "acc = 0\n",
    "\n",
    "# Loops over all epochs\n",
    "for i in range(len(filtered_epochs)):\n",
    "\n",
    "    # Hold the features of the epoch (4 features corresponding to the target labels)\n",
    "    features = []\n",
    "    for j in reference_signals: # Loop 4 times over labels (9.25, 11.25, 13.25, 14.25)\n",
    "        features.append(coeff(filtered_epochs[i], j)) \n",
    "\n",
    "    print(f\"Actual Freq: {target[i]}, Predicted Freq: {labels[np.argmax(features)]}\")\n",
    "\n",
    "    # Increase accuracy if target was successfully found\n",
    "    if (target[i] == labels[np.argmax(features)]):\n",
    "        acc += 1\n",
    "\n",
    "acc = acc/len(filtered_epochs)\n",
    "print(acc)"
   ]
  },
  {
   "cell_type": "markdown",
   "metadata": {},
   "source": [
    "# Test CCA for all subjects"
   ]
  },
  {
   "cell_type": "code",
   "execution_count": 17,
   "metadata": {},
   "outputs": [
    {
     "name": "stdout",
     "output_type": "stream",
     "text": [
      "Subject 1 accuracy: 0.6333333333333333\n",
      "Subject 2 accuracy: 0.5333333333333333\n",
      "Subject 3 accuracy: 0.9166666666666666\n",
      "Subject 4 accuracy: 0.9833333333333333\n",
      "Subject 5 accuracy: 0.9166666666666666\n",
      "Subject 6 accuracy: 0.9833333333333333\n",
      "Subject 7 accuracy: 0.9666666666666667\n",
      "Subject 8 accuracy: 1.0\n",
      "Subject 9 accuracy: 0.8833333333333333\n",
      "Subject 10 accuracy: 0.95\n",
      "Total accuracy: 0.8766666666666667\n"
     ]
    }
   ],
   "source": [
    "total_acc = 0\n",
    "total_count = 0 \n",
    "\n",
    "for subject in range(1, 11):\n",
    "    mat = sio.loadmat(f'Data\\\\data\\\\s{subject}.mat')\n",
    "    subject_eeg_data = mat[\"eeg\"]\n",
    "    # 1st dim: 12   -- target\n",
    "    # 2nd dim: 8    -- channels\n",
    "    # 3rd dim: 1114 -- timepoints\n",
    "    # 4th dim: 15   -- trials\n",
    "\n",
    "    # Doing just 9 Hz, 11 Hz, 13 Hz, 14 Hz\n",
    "    # Doing just Oz electrode (index 6)\n",
    "\n",
    "    filtered_epochs = [] # Will contain the all epochs of data\n",
    "    target = [] # Will contain the target stimulus frequency to the corresponding filtered_epoch item\n",
    "    electrode_id = 6 # To only get Oz\n",
    "\n",
    "    labels = [9.25, 11.25, 13.25, 14.25]\n",
    "    stimulus_id = [0, 1, 2, 8]\n",
    "\n",
    "    # Four classes\n",
    "    for i in range(4):\n",
    "\n",
    "        # Cycle each through trial in the class\n",
    "        for j in range(15):\n",
    "\n",
    "            # Temporary array to hold epoch\n",
    "            temp_epoch = np.array(subject_eeg_data[stimulus_id[i], electrode_id, 38:, j]).flatten()\n",
    "\n",
    "            # apply the band-pass filter\n",
    "            temp_epoch = butter_highpass_filter(\n",
    "                data=temp_epoch,\n",
    "                cutoff=cutoff_high,\n",
    "                nyq=nyq,\n",
    "                order=4)\n",
    "\n",
    "            temp_epoch = butter_lowpass_filter(\n",
    "                data=temp_epoch,\n",
    "                cutoff=cutoff_low,\n",
    "                nyq=nyq,\n",
    "                order=4)\n",
    "\n",
    "            # Append the epoch data and target label\n",
    "            filtered_epochs.append(temp_epoch)\n",
    "            target.append(labels[i])\n",
    "\n",
    "    # Holds accuracy\n",
    "    acc = 0\n",
    "\n",
    "    # Loops over all epochs\n",
    "    for i in range(len(filtered_epochs)):\n",
    "        total_count += 1\n",
    "\n",
    "        # Hold the features of the epoch (4 features corresponding to the target labels)\n",
    "        features = []\n",
    "        for j in reference_signals: # Loop 4 times over labels (9.25, 11.25, 13.25, 14.25)\n",
    "                features.append(coeff(filtered_epochs[i], j)) \n",
    "\n",
    "        # print(f\"Actual Freq: {target[i]}, Predicted Freq: {labels[np.argmax(features)]}\")\n",
    "\n",
    "        # Increase accuracy if target was successfully found\n",
    "        if (target[i] == labels[np.argmax(features)]):\n",
    "            acc += 1\n",
    "            total_acc += 1\n",
    "            \n",
    "    acc = acc/len(filtered_epochs)\n",
    "    print(f'Subject {subject} accuracy: {acc}')\n",
    "\n",
    "total_acc = total_acc / total_count\n",
    "print(f'Total accuracy: {total_acc}')"
   ]
  },
  {
   "cell_type": "code",
   "execution_count": null,
   "metadata": {},
   "outputs": [],
   "source": []
  }
 ],
 "metadata": {
  "kernelspec": {
   "display_name": "Python 3",
   "language": "python",
   "name": "python3"
  },
  "language_info": {
   "codemirror_mode": {
    "name": "ipython",
    "version": 3
   },
   "file_extension": ".py",
   "mimetype": "text/x-python",
   "name": "python",
   "nbconvert_exporter": "python",
   "pygments_lexer": "ipython3",
   "version": "3.10.11"
  }
 },
 "nbformat": 4,
 "nbformat_minor": 2
}
