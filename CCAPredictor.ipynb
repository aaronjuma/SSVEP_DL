{
 "cells": [
  {
   "cell_type": "markdown",
   "metadata": {},
   "source": [
    "# Predicted SSVEP Stimulus Frequency using CCA"
   ]
  },
  {
   "cell_type": "markdown",
   "metadata": {},
   "source": [
    "### Importing libraries"
   ]
  },
  {
   "cell_type": "code",
   "execution_count": 1,
   "metadata": {},
   "outputs": [],
   "source": [
    "import scipy.io as sio\n",
    "import numpy as np\n",
    "import matplotlib.pyplot as plt\n",
    "from scipy import signal\n",
    "from sklearn.cross_decomposition import CCA"
   ]
  },
  {
   "cell_type": "markdown",
   "metadata": {},
   "source": [
    "### Getting Data"
   ]
  },
  {
   "cell_type": "code",
   "execution_count": 3,
   "metadata": {},
   "outputs": [],
   "source": [
    "mat_contents = sio.loadmat('Data/data/s1.mat')"
   ]
  },
  {
   "cell_type": "code",
   "execution_count": 4,
   "metadata": {},
   "outputs": [],
   "source": [
    "eeg_data = mat_contents[\"eeg\"]\n",
    "chan_locs = ['PO7', 'PO3', 'POz', 'PO4', 'PO8', 'O1', 'Oz', 'O2']\n",
    "eeg_data = mat_contents['eeg']\n",
    "# 1st dim: 12   -- target\n",
    "# 2nd dim: 8    -- channels\n",
    "# 3rd dim: 1114 -- timepoints\n",
    "# 4th dim: 15   -- trials"
   ]
  },
  {
   "cell_type": "markdown",
   "metadata": {},
   "source": [
    "### Setting up the filters"
   ]
  },
  {
   "cell_type": "code",
   "execution_count": 5,
   "metadata": {},
   "outputs": [],
   "source": [
    "def butter_highpass_filter(data, cutoff, nyq, order=5):\n",
    "    \"\"\"Butterworth high-pass filter.\n",
    "    Args:\n",
    "        data (array_like): data to be filtered.\n",
    "        cutoff (float): cutoff frequency.\n",
    "        order (int): order of the filter.\n",
    "    Returns:\n",
    "        array: filtered data.\"\"\"\n",
    "    normal_cutoff = cutoff / nyq  # normalized cutoff frequency\n",
    "    b, a = signal.butter(order, normal_cutoff, btype='high', analog=False)\n",
    "    filtered_data = signal.filtfilt(b, a, data)\n",
    "    return filtered_data\n",
    "\n",
    "def butter_lowpass_filter(data, cutoff, nyq, order=5):\n",
    "    \"\"\"Butterworth low-pass filter.\n",
    "    Args:\n",
    "        data (array_like): data to be filtered.\n",
    "        cutoff (float): cutoff frequency.\n",
    "        order (int): order of the filter.\n",
    "    Returns:\n",
    "        array: filtered data.\"\"\"\n",
    "    normal_cutoff = cutoff / nyq  # normalized cutoff frequency\n",
    "    b, a = signal.butter(order, normal_cutoff, btype='low', analog=False)\n",
    "    filtered_data = signal.lfilter(b, a, data)\n",
    "    return filtered_data\n",
    "\n",
    "# Filter parameters\n",
    "fps = 256  # sampling frequency\n",
    "cutoff_high = 6  # cutoff frequency of the high-pass filter\n",
    "cutoff_low = 50  # cutoff frequency of the low-pass filter\n",
    "nyq = 0.5 * fps  # Nyquist frequency (half of the sampling frequency).  It represents the highest frequency that can be accurately represented in a discrete-time signal."
   ]
  },
  {
   "cell_type": "markdown",
   "metadata": {},
   "source": [
    "# Filter Dataset"
   ]
  },
  {
   "cell_type": "code",
   "execution_count": 20,
   "metadata": {},
   "outputs": [],
   "source": [
    "# Doing just 9 Hz, 11 Hz, 13 Hz, 14 Hz\n",
    "# Doing just Oz electrode (index 6)\n",
    "\n",
    "filtered_epochs = [] # Will contain the all epochs of data\n",
    "target = [] # Will contain the target stimulus frequency to the corresponding filtered_epoch item\n",
    "electrode_id = 6 # To only get Oz\n",
    "\n",
    "\n",
    "labels = [9.25, 11.25, 13.25, 14.25]\n",
    "stimulus_id = [0, 1, 2, 8]\n",
    "\n",
    "# Four classes\n",
    "for i in range(4):\n",
    "\n",
    "    # Cycle each through trial in the class\n",
    "    for j in range(15):\n",
    "\n",
    "        # Temporary array to hold epoch (For 3rd dimension, we segment from the 39th timepoint and onwards since \n",
    "        # the 39th timepoint is the onset of the stimulus )\n",
    "        temp_epoch = np.array(eeg_data[stimulus_id[i], electrode_id, 38:, j]).flatten()\n",
    "\n",
    "        # apply the band-pass filter\n",
    "        temp_epoch = butter_highpass_filter(\n",
    "            data=temp_epoch,\n",
    "            cutoff=cutoff_high,\n",
    "            nyq=nyq,\n",
    "            order=4)\n",
    "\n",
    "        temp_epoch = butter_lowpass_filter(\n",
    "            data=temp_epoch,\n",
    "            cutoff=cutoff_low,\n",
    "            nyq=nyq,\n",
    "            order=4)\n",
    "\n",
    "        # Append the epoch data and target label\n",
    "        filtered_epochs.append(temp_epoch)\n",
    "        target.append(labels[i])"
   ]
  },
  {
   "cell_type": "code",
   "execution_count": 21,
   "metadata": {},
   "outputs": [],
   "source": [
    "# Function to get the index of the frequency from the FFT\n",
    "def closest(lst, K):\n",
    "    return (np.abs(lst - K)).argmin()"
   ]
  },
  {
   "cell_type": "code",
   "execution_count": 22,
   "metadata": {},
   "outputs": [],
   "source": [
    "# Function to get the FFT values\n",
    "def GetFFT(data_):\n",
    "    \n",
    "    data_len = len(data_)  # number of observations\n",
    "    fourier_transform = np.fft.fft(data_)  # compute FFT\n",
    "    fourier_transform = fourier_transform / data_len  # normalize values\n",
    "    fourier_transform = fourier_transform[:int(data_len/2)]  # take half of the data\n",
    "\n",
    "    time_period = data_len / fps  # time period of the signal\n",
    "    values = np.arange(int(data_len/2))  # x-axis values up to Nyquist frequency\n",
    "    frequencies = values / time_period  # x-axis values in Hz\n",
    "\n",
    "    return frequencies, abs(fourier_transform)"
   ]
  },
  {
   "cell_type": "code",
   "execution_count": 23,
   "metadata": {},
   "outputs": [
    {
     "name": "stdout",
     "output_type": "stream",
     "text": [
      "Actual Freq: 9.25, Predicted Freq: 9.25\n",
      "Actual Freq: 9.25, Predicted Freq: 11.25\n",
      "Actual Freq: 9.25, Predicted Freq: 11.25\n",
      "Actual Freq: 9.25, Predicted Freq: 9.25\n",
      "Actual Freq: 9.25, Predicted Freq: 11.25\n",
      "Actual Freq: 9.25, Predicted Freq: 9.25\n",
      "Actual Freq: 9.25, Predicted Freq: 13.25\n",
      "Actual Freq: 9.25, Predicted Freq: 14.25\n",
      "Actual Freq: 9.25, Predicted Freq: 9.25\n",
      "Actual Freq: 9.25, Predicted Freq: 9.25\n",
      "Actual Freq: 9.25, Predicted Freq: 13.25\n",
      "Actual Freq: 9.25, Predicted Freq: 9.25\n",
      "Actual Freq: 9.25, Predicted Freq: 9.25\n",
      "Actual Freq: 9.25, Predicted Freq: 9.25\n",
      "Actual Freq: 9.25, Predicted Freq: 9.25\n",
      "Actual Freq: 11.25, Predicted Freq: 9.25\n",
      "Actual Freq: 11.25, Predicted Freq: 9.25\n",
      "Actual Freq: 11.25, Predicted Freq: 11.25\n",
      "Actual Freq: 11.25, Predicted Freq: 11.25\n",
      "Actual Freq: 11.25, Predicted Freq: 11.25\n",
      "Actual Freq: 11.25, Predicted Freq: 11.25\n",
      "Actual Freq: 11.25, Predicted Freq: 11.25\n",
      "Actual Freq: 11.25, Predicted Freq: 11.25\n",
      "Actual Freq: 11.25, Predicted Freq: 11.25\n",
      "Actual Freq: 11.25, Predicted Freq: 11.25\n",
      "Actual Freq: 11.25, Predicted Freq: 11.25\n",
      "Actual Freq: 11.25, Predicted Freq: 11.25\n",
      "Actual Freq: 11.25, Predicted Freq: 11.25\n",
      "Actual Freq: 11.25, Predicted Freq: 11.25\n",
      "Actual Freq: 11.25, Predicted Freq: 11.25\n",
      "Actual Freq: 13.25, Predicted Freq: 11.25\n",
      "Actual Freq: 13.25, Predicted Freq: 11.25\n",
      "Actual Freq: 13.25, Predicted Freq: 13.25\n",
      "Actual Freq: 13.25, Predicted Freq: 11.25\n",
      "Actual Freq: 13.25, Predicted Freq: 11.25\n",
      "Actual Freq: 13.25, Predicted Freq: 9.25\n",
      "Actual Freq: 13.25, Predicted Freq: 13.25\n",
      "Actual Freq: 13.25, Predicted Freq: 13.25\n",
      "Actual Freq: 13.25, Predicted Freq: 13.25\n",
      "Actual Freq: 13.25, Predicted Freq: 13.25\n",
      "Actual Freq: 13.25, Predicted Freq: 11.25\n",
      "Actual Freq: 13.25, Predicted Freq: 9.25\n",
      "Actual Freq: 13.25, Predicted Freq: 11.25\n",
      "Actual Freq: 13.25, Predicted Freq: 9.25\n",
      "Actual Freq: 13.25, Predicted Freq: 13.25\n",
      "Actual Freq: 14.25, Predicted Freq: 14.25\n",
      "Actual Freq: 14.25, Predicted Freq: 9.25\n",
      "Actual Freq: 14.25, Predicted Freq: 13.25\n",
      "Actual Freq: 14.25, Predicted Freq: 14.25\n",
      "Actual Freq: 14.25, Predicted Freq: 14.25\n",
      "Actual Freq: 14.25, Predicted Freq: 9.25\n",
      "Actual Freq: 14.25, Predicted Freq: 14.25\n",
      "Actual Freq: 14.25, Predicted Freq: 14.25\n",
      "Actual Freq: 14.25, Predicted Freq: 14.25\n",
      "Actual Freq: 14.25, Predicted Freq: 11.25\n",
      "Actual Freq: 14.25, Predicted Freq: 14.25\n",
      "Actual Freq: 14.25, Predicted Freq: 11.25\n",
      "Actual Freq: 14.25, Predicted Freq: 14.25\n",
      "Actual Freq: 14.25, Predicted Freq: 14.25\n",
      "Actual Freq: 14.25, Predicted Freq: 14.25\n",
      "0.6333333333333333\n"
     ]
    }
   ],
   "source": [
    "# Holds accuracy\n",
    "acc = 0\n",
    "\n",
    "# Loops over all epochs\n",
    "for i in range(len(filtered_epochs)):\n",
    "\n",
    "    # Get the FFT calculations of the epoch\n",
    "    freq, power = GetFFT(filtered_epochs[i])\n",
    "\n",
    "    # Hold the features of the epoch (4 features corresponding to the target labels)\n",
    "    features = []\n",
    "    for j in labels: # Loop 4 times over labels (9.25, 11.25, 13.25, 14.25)\n",
    "        ind = closest(freq, j) # Get the index of the target frequency from the fft\n",
    "        val = abs(power)[ind] # Get the power of the target frequency\n",
    "        features.append(val) \n",
    "\n",
    "    print(f\"Actual Freq: {target[i]}, Predicted Freq: {labels[np.argmax(features)]}\")\n",
    "\n",
    "    # Increase accuracy if target was successfully found\n",
    "    if (target[i] == labels[np.argmax(features)]):\n",
    "        acc += 1\n",
    "\n",
    "acc = acc/len(filtered_epochs)\n",
    "print(acc)"
   ]
  }
 ],
 "metadata": {
  "kernelspec": {
   "display_name": "Python 3",
   "language": "python",
   "name": "python3"
  },
  "language_info": {
   "codemirror_mode": {
    "name": "ipython",
    "version": 3
   },
   "file_extension": ".py",
   "mimetype": "text/x-python",
   "name": "python",
   "nbconvert_exporter": "python",
   "pygments_lexer": "ipython3",
   "version": "3.10.11"
  }
 },
 "nbformat": 4,
 "nbformat_minor": 2
}
