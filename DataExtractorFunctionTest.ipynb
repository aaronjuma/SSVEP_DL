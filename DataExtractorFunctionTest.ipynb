{
 "cells": [
  {
   "cell_type": "code",
   "execution_count": 1,
   "metadata": {},
   "outputs": [],
   "source": [
    "from os.path import dirname, join as pjoin\n",
    "import scipy.io as sio\n",
    "import numpy as np\n",
    "import matplotlib.pyplot as plt\n",
    "from brainflow.data_filter import DataFilter, AggOperations, WaveletTypes, NoiseEstimationLevelTypes, WaveletExtensionTypes, ThresholdTypes, WaveletDenoisingTypes\n",
    "from brainflow.data_filter import DataFilter, FilterTypes, AggOperations, NoiseTypes, DetrendOperations, WindowOperations\n",
    "from brainflow.board_shim import BoardShim, BrainFlowInputParams, BoardIds"
   ]
  },
  {
   "cell_type": "code",
   "execution_count": 2,
   "metadata": {},
   "outputs": [],
   "source": [
    "mat_contents = sio.loadmat('Data/U001x.mat')\n",
    "labels_adaptation = [4, 2, 1, 0, 3, 4, 1, 0, 3, 2]\n",
    "eeg_electrodes = [i.item() for i in mat_contents['info']['label'].item()[0]]"
   ]
  },
  {
   "cell_type": "code",
   "execution_count": 3,
   "metadata": {},
   "outputs": [
    {
     "data": {
      "text/plain": [
       "(15, 16640)"
      ]
     },
     "execution_count": 3,
     "metadata": {},
     "output_type": "execute_result"
    }
   ],
   "source": [
    "eeg_data = np.array(mat_contents['eeg'])\n",
    "eeg_data.shape"
   ]
  },
  {
   "cell_type": "code",
   "execution_count": 4,
   "metadata": {},
   "outputs": [
    {
     "name": "stdout",
     "output_type": "stream",
     "text": [
      "Finding the index of start and end times\n",
      "[ 2  5  8 11 14 17 20 23 26 29]\n",
      "[ 3  6  9 12 15 18 21 24 27 30]\n",
      "\n",
      "Getting the EEG time index of start and end times\n",
      "[ 2699  4107  5515  6923  8331  9739 11147 12555 13963 15371]\n",
      "[ 3339  4747  6155  7563  8971 10379 11787 13195 14603 16011]\n"
     ]
    }
   ],
   "source": [
    "events = mat_contents['events'][:,1]\n",
    "start_times = np.where(events==32779)[0]\n",
    "end_times = np.where(events==32780)[0]\n",
    "print(\"Finding the index of start and end times\")\n",
    "print(start_times)\n",
    "print(end_times)\n",
    "\n",
    "print()\n",
    "print(\"Getting the EEG time index of start and end times\")\n",
    "event_index = mat_contents['events'][:,2]\n",
    "start_index = event_index[start_times]\n",
    "end_index = event_index[end_times]\n",
    "print(start_index)\n",
    "print(end_index)"
   ]
  },
  {
   "cell_type": "code",
   "execution_count": 5,
   "metadata": {},
   "outputs": [
    {
     "name": "stdout",
     "output_type": "stream",
     "text": [
      "16640\n",
      "(10, 14, 640)\n"
     ]
    }
   ],
   "source": [
    "eeg_epoch = []\n",
    "processed_eeg = np.array([eeg_data[i].flatten() for i in range(14)])\n",
    "\n",
    "# Average re-referencing\n",
    "means = np.mean(processed_eeg, axis=0)\n",
    "processed_eeg = processed_eeg - means\n",
    "\n",
    "\n",
    "for i in range(14):\n",
    "    DataFilter.perform_bandpass(processed_eeg[i], 128, 1.0, 48.0, 5, FilterTypes.BUTTERWORTH_ZERO_PHASE, 0)\n",
    "    # DataFilter.perform_bandstop(eeg_data[i], 128, 58.0, 62.0, 2, FilterTypes.BUTTERWORTH_ZERO_PHASE, 0)\n",
    "\n",
    "print(len(processed_eeg[13]))\n",
    "\n",
    "for i in range(len(start_index)):\n",
    "    # Indexing 0:14 to remove last column (it is not eeg signal, just a status signal)\n",
    "    eeg_epoch.append(processed_eeg[:, start_index[i]:end_index[i]])\n",
    "\n",
    "eeg_epoch = np.array(eeg_epoch)\n",
    "print(eeg_epoch.shape)"
   ]
  },
  {
   "cell_type": "code",
   "execution_count": 6,
   "metadata": {},
   "outputs": [],
   "source": [
    "def process_and_epoch(mat_file):\n",
    "    \n",
    "    # Get EEG Channels\n",
    "    eeg_data = np.array(mat_file['eeg'])\n",
    "    \n",
    "    # Get the index of when the starting and ending events occur\n",
    "    events = mat_file['events'][:,1]\n",
    "    start_times = np.where(events==32779)[0]\n",
    "    end_times = np.where(events==32780)[0]\n",
    "\n",
    "\n",
    "    # Get the index of when the start and end of trial are in the EEG dataset\n",
    "    event_index = mat_file['events'][:,2]\n",
    "    start_index = event_index[start_times]\n",
    "    end_index = event_index[end_times]\n",
    "\n",
    "    # Process EEG data set\n",
    "    eeg_epoch = []\n",
    "    processed_eeg = np.array([eeg_data[i].flatten() for i in range(14)])\n",
    "\n",
    "    # Average re-referencing\n",
    "    means = np.mean(processed_eeg, axis=0)\n",
    "    processed_eeg = processed_eeg - means\n",
    "\n",
    "    # Band-pass\n",
    "    for i in range(14):\n",
    "        DataFilter.perform_bandpass(processed_eeg[i], 128, 1.0, 48.0, 5, FilterTypes.BUTTERWORTH_ZERO_PHASE, 0)\n",
    "        # DataFilter.perform_bandstop(eeg_data[i], 128, 58.0, 62.0, 2, FilterTypes.BUTTERWORTH_ZERO_PHASE, 0)\n",
    "\n",
    "    # Epoch data\n",
    "    for i in range(len(start_index)):\n",
    "        # Indexing 0:14 to remove last column (it is not eeg signal, just a status signal)\n",
    "        eeg_epoch.append(processed_eeg[:, start_index[i]:end_index[i]])\n",
    "\n",
    "    eeg_epoch = np.array(eeg_epoch)\n",
    "    print(eeg_epoch.shape)\n",
    "    \n",
    "    return eeg_epoch\n",
    "\n",
    "    "
   ]
  },
  {
   "cell_type": "code",
   "execution_count": 7,
   "metadata": {},
   "outputs": [
    {
     "name": "stdout",
     "output_type": "stream",
     "text": [
      "(10, 14, 640)\n"
     ]
    }
   ],
   "source": [
    "eeg = process_and_epoch(mat_contents)"
   ]
  },
  {
   "cell_type": "code",
   "execution_count": 8,
   "metadata": {},
   "outputs": [
    {
     "name": "stdout",
     "output_type": "stream",
     "text": [
      "Saved eeg_epochs/epoch_0.npy\n",
      "Saved eeg_epochs/epoch_1.npy\n",
      "Saved eeg_epochs/epoch_2.npy\n"
     ]
    }
   ],
   "source": [
    "import numpy as np\n",
    "import os\n",
    "\n",
    "# Example data (3 epochs, 2 channels, 5 time points)\n",
    "epochs = np.random.rand(3, 2, 5)\n",
    "\n",
    "# Create a directory to save the data\n",
    "output_dir = \"eeg_epochs/\"\n",
    "os.makedirs(output_dir, exist_ok=True)\n",
    "\n",
    "# Save each epoch as a separate .npy file\n",
    "for i, epoch in enumerate(epochs):\n",
    "    file_path = os.path.join(output_dir, f\"epoch_{i}.npy\")\n",
    "    np.save(file_path, epoch)\n",
    "    print(f\"Saved {file_path}\")"
   ]
  },
  {
   "cell_type": "code",
   "execution_count": 19,
   "metadata": {},
   "outputs": [
    {
     "ename": "ValueError",
     "evalue": "all the input arrays must have same number of dimensions, but the array at index 0 has 3 dimension(s) and the array at index 1 has 2 dimension(s)",
     "output_type": "error",
     "traceback": [
      "\u001b[1;31m---------------------------------------------------------------------------\u001b[0m",
      "\u001b[1;31mValueError\u001b[0m                                Traceback (most recent call last)",
      "Cell \u001b[1;32mIn[19], line 4\u001b[0m\n\u001b[0;32m      2\u001b[0m x\u001b[38;5;241m.\u001b[39mappend(np\u001b[38;5;241m.\u001b[39marray([(\u001b[38;5;241m1\u001b[39m,\u001b[38;5;241m2\u001b[39m,\u001b[38;5;241m3\u001b[39m)]))\n\u001b[0;32m      3\u001b[0m y \u001b[38;5;241m=\u001b[39m np\u001b[38;5;241m.\u001b[39marray([(\u001b[38;5;241m1\u001b[39m, \u001b[38;5;241m2\u001b[39m, \u001b[38;5;241m3\u001b[39m), (\u001b[38;5;241m4\u001b[39m, \u001b[38;5;241m5\u001b[39m, \u001b[38;5;241m6\u001b[39m)])\n\u001b[1;32m----> 4\u001b[0m x \u001b[38;5;241m=\u001b[39m \u001b[43mnp\u001b[49m\u001b[38;5;241;43m.\u001b[39;49m\u001b[43mconcatenate\u001b[49m\u001b[43m(\u001b[49m\u001b[43m(\u001b[49m\u001b[43mx\u001b[49m\u001b[43m,\u001b[49m\u001b[43my\u001b[49m\u001b[43m)\u001b[49m\u001b[43m)\u001b[49m\n\u001b[0;32m      5\u001b[0m x \u001b[38;5;241m=\u001b[39m np\u001b[38;5;241m.\u001b[39mconcatenate((x,y))\n\u001b[0;32m      6\u001b[0m x\n",
      "File \u001b[1;32m<__array_function__ internals>:180\u001b[0m, in \u001b[0;36mconcatenate\u001b[1;34m(*args, **kwargs)\u001b[0m\n",
      "\u001b[1;31mValueError\u001b[0m: all the input arrays must have same number of dimensions, but the array at index 0 has 3 dimension(s) and the array at index 1 has 2 dimension(s)"
     ]
    }
   ],
   "source": [
    "x = []\n",
    "x.append(np.array([(1,2,3)]))\n",
    "y = np.array([(1, 2, 3), (4, 5, 6)])\n",
    "x = np.concatenate((x,y))\n",
    "x = np.concatenate((x,y))\n",
    "x"
   ]
  },
  {
   "cell_type": "code",
   "execution_count": null,
   "metadata": {},
   "outputs": [],
   "source": []
  }
 ],
 "metadata": {
  "kernelspec": {
   "display_name": "Python 3",
   "language": "python",
   "name": "python3"
  },
  "language_info": {
   "codemirror_mode": {
    "name": "ipython",
    "version": 3
   },
   "file_extension": ".py",
   "mimetype": "text/x-python",
   "name": "python",
   "nbconvert_exporter": "python",
   "pygments_lexer": "ipython3",
   "version": "3.9.6"
  }
 },
 "nbformat": 4,
 "nbformat_minor": 2
}
