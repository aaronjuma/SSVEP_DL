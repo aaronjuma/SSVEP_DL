{
 "cells": [
  {
   "cell_type": "code",
   "execution_count": 1,
   "metadata": {},
   "outputs": [],
   "source": [
    "import torch\n",
    "import torch.nn as nn\n",
    "import numpy as np\n",
    "from torch.utils.data import Dataset"
   ]
  },
  {
   "cell_type": "code",
   "execution_count": 7,
   "metadata": {},
   "outputs": [],
   "source": [
    "num_classes = 4\n",
    "batchsize = 16\n",
    "device = torch.device('cuda' if torch.cuda.is_available() else 'cpu')\n",
    "learning_rate = 0.001\n",
    "num_epochs = 50"
   ]
  },
  {
   "cell_type": "code",
   "execution_count": 8,
   "metadata": {},
   "outputs": [
    {
     "name": "stdout",
     "output_type": "stream",
     "text": [
      "27\n",
      "EEG Batch Shape: torch.Size([16, 1076])\n",
      "Label Batch Shape: torch.Size([16])\n"
     ]
    }
   ],
   "source": [
    "class EEGDataset(Dataset):\n",
    "    def __init__(self, data_path, labels_path):\n",
    "        self.data = np.load(data_path)\n",
    "        self.labels = np.load(labels_path)\n",
    "    \n",
    "    def __len__(self):\n",
    "        return len(self.data)\n",
    "    \n",
    "    def __getitem__(self, idx):\n",
    "        # Get the EEG data and corresponding label\n",
    "        eeg = torch.tensor(self.data[idx], dtype=torch.float32)\n",
    "        label = torch.tensor(self.labels[idx], dtype=torch.long)\n",
    "        return eeg, label\n",
    "\n",
    "# Example usage\n",
    "train_dataset = EEGDataset(\"eeg_dataset/train_epochs.npy\", \"eeg_dataset/train_labels.npy\")\n",
    "val_dataset = EEGDataset(\"eeg_dataset/val_epochs.npy\", \"eeg_dataset/val_labels.npy\")\n",
    "test_dataset = EEGDataset(\"eeg_dataset/test_epochs.npy\", \"eeg_dataset/test_labels.npy\")\n",
    "\n",
    "train_loader = torch.utils.data.DataLoader(train_dataset, batch_size=batchsize, shuffle=True)\n",
    "val_loader = torch.utils.data.DataLoader(val_dataset, batch_size=batchsize, shuffle=False)\n",
    "test_loader = torch.utils.data.DataLoader(test_dataset, batch_size=batchsize, shuffle=False)\n",
    "\n",
    "print(len(train_loader))\n",
    "# Check one batch\n",
    "for eeg_batch, label_batch in train_loader:\n",
    "    print(\"EEG Batch Shape:\", eeg_batch.shape)  # (batch_size, 14, 640)\n",
    "    print(\"Label Batch Shape:\", label_batch.shape)  # (batch_size,)\n",
    "    break\n"
   ]
  },
  {
   "cell_type": "code",
   "execution_count": 9,
   "metadata": {},
   "outputs": [],
   "source": [
    "class MLP(nn.Module):\n",
    "    def __init__(self, input_size, num_classes):\n",
    "        super(MLP, self).__init__()\n",
    "        \n",
    "        self.relu = nn.ReLU()\n",
    "        self.dropout1 = nn.Dropout(p=0.1)\n",
    "        self.dropout2 = nn.Dropout(p=0.1)\n",
    "        self.dropout3 = nn.Dropout(p=0.1)\n",
    "        self.bn1 = nn.BatchNorm1d(512)\n",
    "        self.bn2 = nn.BatchNorm1d(256)\n",
    "        self.bn3 = nn.BatchNorm1d(64)\n",
    "        \n",
    "        self.l1 = nn.Linear(input_size, 512)\n",
    "        self.l2 = nn.Linear(512, 256)\n",
    "        self.l3 = nn.Linear(256, 64)\n",
    "        self.l4 = nn.Linear(64, num_classes)\n",
    "        \n",
    "    def forward(self, x):\n",
    "        x = self.l1(x)\n",
    "        x = self.bn1(x)\n",
    "        x = self.relu(x)\n",
    "        x = self.dropout1(x)\n",
    "        \n",
    "        x = self.l2(x)\n",
    "        x = self.bn2(x)\n",
    "        x = self.relu(x)\n",
    "        x = self.dropout2(x)\n",
    "\n",
    "        x = self.l3(x)\n",
    "        x = self.bn3(x)\n",
    "        x = self.relu(x)\n",
    "        x = self.dropout3(x)\n",
    "        \n",
    "        x = self.l4(x)\n",
    "        return x\n",
    "        "
   ]
  },
  {
   "cell_type": "code",
   "execution_count": 10,
   "metadata": {},
   "outputs": [
    {
     "name": "stdout",
     "output_type": "stream",
     "text": [
      "Epoch 1, Training Loss: 1.3848482017163877, Validation Accuracy: 40.65934065934066%\n",
      "Epoch 2, Training Loss: 1.2781710315633703, Validation Accuracy: 56.043956043956044%\n",
      "Epoch 3, Training Loss: 1.1571742826037936, Validation Accuracy: 67.03296703296702%\n",
      "Epoch 4, Training Loss: 1.0620528260866802, Validation Accuracy: 75.82417582417582%\n",
      "Epoch 5, Training Loss: 1.0126917053152014, Validation Accuracy: 85.71428571428571%\n",
      "Epoch 6, Training Loss: 0.935917059580485, Validation Accuracy: 84.61538461538461%\n",
      "Epoch 7, Training Loss: 0.8738032976786295, Validation Accuracy: 87.91208791208791%\n",
      "Epoch 8, Training Loss: 0.8443008815800702, Validation Accuracy: 86.81318681318682%\n",
      "Epoch 9, Training Loss: 0.790680295891232, Validation Accuracy: 91.20879120879121%\n",
      "Epoch 10, Training Loss: 0.7558234002855089, Validation Accuracy: 91.20879120879121%\n",
      "Epoch 11, Training Loss: 0.7149097853236728, Validation Accuracy: 96.7032967032967%\n",
      "Epoch 12, Training Loss: 0.6689813688949302, Validation Accuracy: 92.3076923076923%\n",
      "Epoch 13, Training Loss: 0.6517840027809143, Validation Accuracy: 93.4065934065934%\n",
      "Epoch 14, Training Loss: 0.6363164903940978, Validation Accuracy: 91.20879120879121%\n",
      "Epoch 15, Training Loss: 0.6280569908795534, Validation Accuracy: 90.10989010989012%\n",
      "Epoch 16, Training Loss: 0.6215980450312296, Validation Accuracy: 94.5054945054945%\n",
      "Epoch 17, Training Loss: 0.5672846657258493, Validation Accuracy: 92.3076923076923%\n",
      "Epoch 18, Training Loss: 0.5537374527366073, Validation Accuracy: 94.5054945054945%\n",
      "Epoch 19, Training Loss: 0.5258961684174008, Validation Accuracy: 94.5054945054945%\n",
      "Epoch 20, Training Loss: 0.5095839522503041, Validation Accuracy: 92.3076923076923%\n",
      "Epoch 21, Training Loss: 0.52644619235286, Validation Accuracy: 92.3076923076923%\n",
      "Epoch 22, Training Loss: 0.5052166139637982, Validation Accuracy: 95.6043956043956%\n",
      "Epoch 23, Training Loss: 0.49814016620318097, Validation Accuracy: 95.6043956043956%\n",
      "Epoch 24, Training Loss: 0.47194967336124843, Validation Accuracy: 91.20879120879121%\n",
      "Epoch 25, Training Loss: 0.4814895810904326, Validation Accuracy: 94.5054945054945%\n",
      "Epoch 26, Training Loss: 0.4430855722339065, Validation Accuracy: 93.4065934065934%\n",
      "Epoch 27, Training Loss: 0.40885196681375857, Validation Accuracy: 93.4065934065934%\n",
      "Epoch 28, Training Loss: 0.4175987618940848, Validation Accuracy: 94.5054945054945%\n",
      "Epoch 29, Training Loss: 0.4024973164002101, Validation Accuracy: 95.6043956043956%\n",
      "Epoch 30, Training Loss: 0.4019055046417095, Validation Accuracy: 96.7032967032967%\n",
      "Epoch 31, Training Loss: 0.4268233389766128, Validation Accuracy: 94.5054945054945%\n",
      "Epoch 32, Training Loss: 0.37364673228175554, Validation Accuracy: 94.5054945054945%\n",
      "Epoch 33, Training Loss: 0.36184156824041297, Validation Accuracy: 95.6043956043956%\n",
      "Epoch 34, Training Loss: 0.39222544652444347, Validation Accuracy: 94.5054945054945%\n",
      "Epoch 35, Training Loss: 0.3368752990607862, Validation Accuracy: 96.7032967032967%\n",
      "Epoch 36, Training Loss: 0.33738722403844196, Validation Accuracy: 94.5054945054945%\n",
      "Epoch 37, Training Loss: 0.3652980653224168, Validation Accuracy: 93.4065934065934%\n",
      "Epoch 38, Training Loss: 0.3304873898073479, Validation Accuracy: 95.6043956043956%\n",
      "Epoch 39, Training Loss: 0.3341252958333051, Validation Accuracy: 94.5054945054945%\n",
      "Epoch 40, Training Loss: 0.3500232437142619, Validation Accuracy: 94.5054945054945%\n",
      "Epoch 41, Training Loss: 0.3079964192929091, Validation Accuracy: 96.7032967032967%\n",
      "Epoch 42, Training Loss: 0.28998699673899897, Validation Accuracy: 96.7032967032967%\n",
      "Epoch 43, Training Loss: 0.30098466795903667, Validation Accuracy: 95.6043956043956%\n",
      "Epoch 44, Training Loss: 0.3095296538538403, Validation Accuracy: 95.6043956043956%\n",
      "Epoch 45, Training Loss: 0.28118959897094303, Validation Accuracy: 95.6043956043956%\n",
      "Epoch 46, Training Loss: 0.289874529948941, Validation Accuracy: 94.5054945054945%\n",
      "Epoch 47, Training Loss: 0.29479948182900745, Validation Accuracy: 95.6043956043956%\n",
      "Epoch 48, Training Loss: 0.2526936404131077, Validation Accuracy: 95.6043956043956%\n",
      "Epoch 49, Training Loss: 0.31623889947379075, Validation Accuracy: 95.6043956043956%\n",
      "Epoch 50, Training Loss: 0.27125422270209704, Validation Accuracy: 96.7032967032967%\n"
     ]
    }
   ],
   "source": [
    "model = MLP(1076, num_classes).to(device)\n",
    "criterion = nn.CrossEntropyLoss()\n",
    "optimizer = torch.optim.SGD(model.parameters(), lr=learning_rate)\n",
    "\n",
    "n_total_steps = len(train_loader)\n",
    "\n",
    "for epoch in range(num_epochs):\n",
    "    model.train()\n",
    "    running_loss = 0.0\n",
    "    for eeg, labels in train_loader:\n",
    "        \n",
    "        eeg = eeg.to(device)\n",
    "        labels = labels.to(device)\n",
    "        \n",
    "        optimizer.zero_grad()\n",
    "        output = model(eeg)\n",
    "        loss = criterion(output, labels)\n",
    "        loss.backward()\n",
    "        optimizer.step()\n",
    "        \n",
    "        running_loss += loss.item()\n",
    "    \n",
    "    # Validation loop\n",
    "    model.eval()\n",
    "    val_accuracy = 0\n",
    "    with torch.no_grad():\n",
    "        for eeg, labels in val_loader:\n",
    "            eeg = eeg.to(device)\n",
    "            labels = labels.to(device)\n",
    "            \n",
    "            output = model(eeg)\n",
    "            pred = output.argmax(dim=1, keepdim=True)\n",
    "            val_accuracy += pred.eq(labels.view_as(pred)).sum().item()\n",
    "\n",
    "    val_accuracy /= len(val_loader.dataset)\n",
    "    print(f'Epoch {epoch+1}, Training Loss: {running_loss/len(train_loader)}, Validation Accuracy: {val_accuracy * 100}%')\n"
   ]
  },
  {
   "cell_type": "code",
   "execution_count": 12,
   "metadata": {},
   "outputs": [
    {
     "name": "stdout",
     "output_type": "stream",
     "text": [
      "accuracy = 90.0\n"
     ]
    }
   ],
   "source": [
    "# test\n",
    "with torch.no_grad():\n",
    "    n_correct = 0\n",
    "    n_samples = 0\n",
    "    for eeg, labels in test_loader:\n",
    "        eeg = eeg.to(device)\n",
    "        labels = labels.to(device)\n",
    "        outputs = model(eeg)\n",
    "        \n",
    "        # # print(outputs)\n",
    "        # print(torch.max(outputs, 1))\n",
    "        # print(\"ACC\")\n",
    "        # print(labels)\n",
    "        # break\n",
    "        \n",
    "        _, predictions = torch.max(outputs, 1)\n",
    "        n_samples += labels.shape[0]\n",
    "        n_correct += (predictions==labels).sum().item()\n",
    "        \n",
    "    acc = 100 * (n_correct/n_samples)\n",
    "    print(f'accuracy = {acc}')"
   ]
  },
  {
   "cell_type": "code",
   "execution_count": null,
   "metadata": {},
   "outputs": [],
   "source": []
  }
 ],
 "metadata": {
  "kernelspec": {
   "display_name": "Python 3",
   "language": "python",
   "name": "python3"
  },
  "language_info": {
   "codemirror_mode": {
    "name": "ipython",
    "version": 3
   },
   "file_extension": ".py",
   "mimetype": "text/x-python",
   "name": "python",
   "nbconvert_exporter": "python",
   "pygments_lexer": "ipython3",
   "version": "3.10.11"
  }
 },
 "nbformat": 4,
 "nbformat_minor": 2
}
